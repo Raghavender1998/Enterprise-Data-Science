{
 "cells": [
  {
   "cell_type": "markdown",
   "id": "addd0d6c",
   "metadata": {},
   "source": [
    "![CRISP_DM](../reports/figures/CRISP_DM.png)"
   ]
  },
  {
   "cell_type": "markdown",
   "id": "565c48f1",
   "metadata": {},
   "source": [
    "# Business Understanding\n",
    "\n",
    "We would like to track Corona VIRUS spread across countries and with personal local information\n",
    "\n",
    "The general information is not so relevant for me I would like to have a deep dive local development of the spread "
   ]
  },
  {
   "cell_type": "markdown",
   "id": "b3c2089c",
   "metadata": {},
   "source": [
    "# Goals\n",
    "\n",
    "* We would like to understand the data quality\n",
    "\n",
    "* Everything should be automated as much as possible: how many clicks do we need to execute the full pipeline"
   ]
  },
  {
   "cell_type": "markdown",
   "id": "893a722d",
   "metadata": {},
   "source": [
    "# Constaints:\n",
    "\n",
    "* Each notebook should be left clean and ready for full execution"
   ]
  },
  {
   "cell_type": "code",
   "execution_count": null,
   "id": "b10c3768",
   "metadata": {},
   "outputs": [],
   "source": []
  }
 ],
 "metadata": {
  "kernelspec": {
   "display_name": "Python 3 (ipykernel)",
   "language": "python",
   "name": "python3"
  },
  "language_info": {
   "codemirror_mode": {
    "name": "ipython",
    "version": 3
   },
   "file_extension": ".py",
   "mimetype": "text/x-python",
   "name": "python",
   "nbconvert_exporter": "python",
   "pygments_lexer": "ipython3",
   "version": "3.9.7"
  }
 },
 "nbformat": 4,
 "nbformat_minor": 5
}
